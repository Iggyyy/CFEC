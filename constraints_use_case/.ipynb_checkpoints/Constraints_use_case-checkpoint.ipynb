{
 "cells": [
  {
   "cell_type": "code",
   "execution_count": 1,
   "id": "1034b471",
   "metadata": {},
   "outputs": [],
   "source": [
    "import pandas as pd"
   ]
  },
  {
   "cell_type": "markdown",
   "id": "de1dfebc",
   "metadata": {},
   "source": [
    "reads from excel to json"
   ]
  },
  {
   "cell_type": "code",
   "execution_count": 2,
   "id": "6bb94d9f",
   "metadata": {},
   "outputs": [],
   "source": [
    "def read_from_excel(path: str):\n",
    "    ss = pd.read_excel(path, None)\n",
    "    constraints = dict()\n",
    "    for sheet in ss:\n",
    "        ss[sheet]['hash'] = pd.Series(dtype=int)\n",
    "        constraints[sheet] = dict()\n",
    "        for record_id in range(ss[sheet].shape[0]):\n",
    "            # store current record\n",
    "            r = ss[sheet].iloc[record_id]\n",
    "            # store current column\n",
    "            col_no = int(r[0])\n",
    "            # stroe current constraints\n",
    "            curr_con = dict(r)\n",
    "            del curr_con['hash']\n",
    "            del curr_con['column']\n",
    "            # store current hash value\n",
    "            h = hash(tuple(r[1:]))\n",
    "            # group\n",
    "            if h not in constraints[sheet].keys():\n",
    "                constraints[sheet][h] = {'columns': [col_no], \n",
    "                                         'constraints': curr_con}\n",
    "            else:\n",
    "                constraints[sheet][h]['columns'].append(col_no)\n",
    "    return constraints"
   ]
  },
  {
   "cell_type": "markdown",
   "id": "464fda3a",
   "metadata": {},
   "source": [
    "json representation"
   ]
  },
  {
   "cell_type": "code",
   "execution_count": 3,
   "id": "f9ad2979",
   "metadata": {},
   "outputs": [
    {
     "data": {
      "text/plain": [
       "{'range': {7619408953831620358: {'columns': [0, 2, 1],\n",
       "   'constraints': {'min': 0.0, 'max': 1.0}},\n",
       "  -5232989938126879403: {'columns': [3],\n",
       "   'constraints': {'min': 10.0, 'max': 20.0}}},\n",
       " 'nominal': {1435837555717346218: {'columns': [3],\n",
       "   'constraints': {'value': 'red', 'value.1': 'green', 'value.2': 'blue'}},\n",
       "  -68893908727300965: {'columns': [7],\n",
       "   'constraints': {'value': 'red', 'value.1': 'yellow', 'value.2': nan}}},\n",
       " 'monotonicity': {-8723902965222060910: {'columns': [4, 5],\n",
       "   'constraints': {'direction': 'increasing'}}},\n",
       " 'max_difference': {-3381654230262078061: {'columns': [4],\n",
       "   'constraints': {'max_difference': 10.0}}}}"
      ]
     },
     "execution_count": 3,
     "metadata": {},
     "output_type": "execute_result"
    }
   ],
   "source": [
    "constraints = read_from_excel('counterfactuals_constraints_example.ods')\n",
    "constraints"
   ]
  },
  {
   "cell_type": "markdown",
   "id": "1d0fb816",
   "metadata": {},
   "source": [
    "Value*Constraint class defs"
   ]
  },
  {
   "cell_type": "code",
   "execution_count": 4,
   "id": "7b521530",
   "metadata": {},
   "outputs": [],
   "source": [
    "import abc"
   ]
  },
  {
   "cell_type": "code",
   "execution_count": 5,
   "id": "a4bb1603",
   "metadata": {},
   "outputs": [],
   "source": [
    "class ValueConstraint(abc.ABC):\n",
    "    def __init__(self, columns: list, constraints: dict):\n",
    "        self.columns = columns\n",
    "        self.constraints = constraints\n",
    "        self.name = ''\n",
    "    def __str__(self):\n",
    "        return 'Value'+ str(self.name) + 'Constraint(columns=' + str(self.columns) + ', constraints=' + str(self.constraints) + ')\\n'\n",
    "    def __repr__(self):\n",
    "        return self.__str__()"
   ]
  },
  {
   "cell_type": "code",
   "execution_count": 6,
   "id": "2da05775",
   "metadata": {},
   "outputs": [],
   "source": [
    "class ValueRangeConstraint(ValueConstraint):\n",
    "    def __init__(self, *args):\n",
    "        super().__init__(*args)\n",
    "        self.name = 'Range'\n",
    "class ValueMonotonicityConstraint(ValueConstraint):\n",
    "    def __init__(self, *args):\n",
    "        super().__init__(*args)\n",
    "        self.name = 'Monotonicity'\n",
    "class ValueMaxDiffConstraint(ValueConstraint):\n",
    "    def __init__(self, *args):\n",
    "        super().__init__(*args)\n",
    "        self.name = 'MaxDiff'\n",
    "class ValueNominalConstraint(ValueConstraint):\n",
    "    def __init__(self, *args):\n",
    "        super().__init__(*args)\n",
    "        self.name = 'Nominal'\n",
    "        self.constraints = {'values' : list(self.constraints.values())}\n",
    "        self.constraints['values'] = [v for v in self.constraints['values'] if str(v) != 'nan']"
   ]
  },
  {
   "cell_type": "markdown",
   "id": "75e75bca",
   "metadata": {},
   "source": [
    "returns list of implied ValueConstraint classes"
   ]
  },
  {
   "cell_type": "code",
   "execution_count": 7,
   "id": "a5b4ea54",
   "metadata": {},
   "outputs": [],
   "source": [
    "def json_to_class_parse(constraints: dict):\n",
    "    result = list()\n",
    "    for c in constraints['range'].values():\n",
    "        result.append(ValueRangeConstraint(*c.values()))\n",
    "    for c in constraints['monotonicity'].values():\n",
    "        result.append(ValueMonotonicityConstraint(*c.values()))\n",
    "    for c in constraints['nominal'].values():\n",
    "        result.append(ValueNominalConstraint(*c.values()))\n",
    "    for c in constraints['max_difference'].values():\n",
    "        result.append(ValueMaxDiffConstraint(*c.values()))\n",
    "    return result"
   ]
  },
  {
   "cell_type": "code",
   "execution_count": 8,
   "id": "02b972f5",
   "metadata": {},
   "outputs": [
    {
     "name": "stdout",
     "output_type": "stream",
     "text": [
      "[ValueRangeConstraint(columns=[0, 2, 1], constraints={'min': 0.0, 'max': 1.0})\n",
      ", ValueRangeConstraint(columns=[3], constraints={'min': 10.0, 'max': 20.0})\n",
      ", ValueMonotonicityConstraint(columns=[4, 5], constraints={'direction': 'increasing'})\n",
      ", ValueNominalConstraint(columns=[3], constraints={'values': ['red', 'green', 'blue']})\n",
      ", ValueNominalConstraint(columns=[7], constraints={'values': ['red', 'yellow']})\n",
      ", ValueMaxDiffConstraint(columns=[4], constraints={'max_difference': 10.0})\n",
      "]\n"
     ]
    }
   ],
   "source": [
    "print(json_to_class_parse(constraints))"
   ]
  }
 ],
 "metadata": {
  "kernelspec": {
   "display_name": "Python 3 (ipykernel)",
   "language": "python",
   "name": "python3"
  },
  "language_info": {
   "codemirror_mode": {
    "name": "ipython",
    "version": 3
   },
   "file_extension": ".py",
   "mimetype": "text/x-python",
   "name": "python",
   "nbconvert_exporter": "python",
   "pygments_lexer": "ipython3",
   "version": "3.9.7"
  }
 },
 "nbformat": 4,
 "nbformat_minor": 5
}
