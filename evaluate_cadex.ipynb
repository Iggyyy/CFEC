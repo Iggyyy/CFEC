{
 "cells": [
  {
   "cell_type": "code",
   "execution_count": 1,
   "metadata": {},
   "outputs": [
    {
     "name": "stderr",
     "output_type": "stream",
     "text": [
      "2021-12-21 03:36:51.768392: W tensorflow/stream_executor/platform/default/dso_loader.cc:64] Could not load dynamic library 'libcudart.so.11.0'; dlerror: libcudart.so.11.0: cannot open shared object file: No such file or directory\n",
      "2021-12-21 03:36:51.768466: I tensorflow/stream_executor/cuda/cudart_stub.cc:29] Ignore above cudart dlerror if you do not have a GPU set up on your machine.\n"
     ]
    }
   ],
   "source": [
    "from src.counterfactuals._cadex import Cadex\n",
    "from src.counterfactuals.visualization import compare\n",
    "from data.GermanData import GermanData\n",
    "from tensorflow import keras"
   ]
  },
  {
   "cell_type": "code",
   "execution_count": 4,
   "metadata": {
    "scrolled": true
   },
   "outputs": [],
   "source": [
    "german_data = GermanData('data/input_german.csv', 'data/labels_german.csv')\n",
    "test_X = german_data.X_test.iloc[6]\n",
    "model = keras.models.load_model('models/model_german')\n",
    "cadex = Cadex(model)\n",
    "cf = cadex.generate(test_X)"
   ]
  },
  {
   "cell_type": "code",
   "execution_count": 6,
   "metadata": {},
   "outputs": [
    {
     "data": {
      "text/html": [
       "<div>\n",
       "<style scoped>\n",
       "    .dataframe tbody tr th:only-of-type {\n",
       "        vertical-align: middle;\n",
       "    }\n",
       "\n",
       "    .dataframe tbody tr th {\n",
       "        vertical-align: top;\n",
       "    }\n",
       "\n",
       "    .dataframe thead th {\n",
       "        text-align: right;\n",
       "    }\n",
       "</style>\n",
       "<table border=\"1\" class=\"dataframe\">\n",
       "  <thead>\n",
       "    <tr style=\"text-align: right;\">\n",
       "      <th></th>\n",
       "      <th>X</th>\n",
       "      <th>X'</th>\n",
       "      <th>change</th>\n",
       "    </tr>\n",
       "  </thead>\n",
       "  <tbody>\n",
       "    <tr>\n",
       "      <th>savings_&lt; 100 DM</th>\n",
       "      <td>0.818625</td>\n",
       "      <td>1.724001</td>\n",
       "      <td>0.905377</td>\n",
       "    </tr>\n",
       "    <tr>\n",
       "      <th>installment_percent</th>\n",
       "      <td>0.940089</td>\n",
       "      <td>1.822751</td>\n",
       "      <td>0.882662</td>\n",
       "    </tr>\n",
       "    <tr>\n",
       "      <th>duration</th>\n",
       "      <td>-0.754956</td>\n",
       "      <td>0.061050</td>\n",
       "      <td>0.816006</td>\n",
       "    </tr>\n",
       "    <tr>\n",
       "      <th>other_installment_plans_bank</th>\n",
       "      <td>-0.388689</td>\n",
       "      <td>0.483494</td>\n",
       "      <td>0.872183</td>\n",
       "    </tr>\n",
       "    <tr>\n",
       "      <th>credit_history_no credits taken</th>\n",
       "      <td>-0.207424</td>\n",
       "      <td>0.679886</td>\n",
       "      <td>0.887311</td>\n",
       "    </tr>\n",
       "  </tbody>\n",
       "</table>\n",
       "</div>"
      ],
      "text/plain": [
       "                                        X        X'    change\n",
       "savings_< 100 DM                 0.818625  1.724001  0.905377\n",
       "installment_percent              0.940089  1.822751  0.882662\n",
       "duration                        -0.754956  0.061050  0.816006\n",
       "other_installment_plans_bank    -0.388689  0.483494  0.872183\n",
       "credit_history_no credits taken -0.207424  0.679886  0.887311"
      ]
     },
     "execution_count": 6,
     "metadata": {},
     "output_type": "execute_result"
    }
   ],
   "source": [
    "df = compare(test_X, cf)\n",
    "df"
   ]
  },
  {
   "cell_type": "code",
   "execution_count": null,
   "metadata": {},
   "outputs": [],
   "source": []
  }
 ],
 "metadata": {
  "kernelspec": {
   "display_name": "Python 3 (ipykernel)",
   "language": "python",
   "name": "python3"
  },
  "language_info": {
   "codemirror_mode": {
    "name": "ipython",
    "version": 3
   },
   "file_extension": ".py",
   "mimetype": "text/x-python",
   "name": "python",
   "nbconvert_exporter": "python",
   "pygments_lexer": "ipython3",
   "version": "3.8.10"
  }
 },
 "nbformat": 4,
 "nbformat_minor": 1
}
