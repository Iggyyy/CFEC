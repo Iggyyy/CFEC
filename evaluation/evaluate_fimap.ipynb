{
 "cells": [
  {
   "cell_type": "code",
   "execution_count": 1,
   "metadata": {},
   "outputs": [],
   "source": [
    "from counterfactuals.explainers import Fimap\n",
    "from counterfactuals.constraints import ValueMonotonicity, ValueNominal, Freeze\n",
    "from data import AdultData\n",
    "from tensorflow import keras\n",
    "import random\n",
    "import numpy as np\n",
    "import tensorflow as tf\n",
    "import os\n",
    "import pandas as pd\n",
    "import warnings\n",
    "warnings.filterwarnings('ignore')\n",
    "\n",
    "def reset_random_seeds(seed=42):\n",
    "   os.environ['PYTHONHASHSEED']=str(seed)\n",
    "   tf.random.set_seed(seed)\n",
    "   np.random.seed(seed)\n",
    "   random.seed(seed)\n",
    "\n",
    "reset_random_seeds()"
   ]
  },
  {
   "cell_type": "code",
   "execution_count": 2,
   "metadata": {},
   "outputs": [
    {
     "name": "stdout",
     "output_type": "stream",
     "text": [
      "              precision    recall  f1-score   support\n",
      "\n",
      "           0       0.90      0.75      0.82      4533\n",
      "           1       0.50      0.76      0.60      1500\n",
      "\n",
      "    accuracy                           0.75      6033\n",
      "   macro avg       0.70      0.75      0.71      6033\n",
      "weighted avg       0.80      0.75      0.77      6033\n",
      "\n"
     ]
    }
   ],
   "source": [
    "from sklearn.ensemble import RandomForestClassifier\n",
    "from sklearn.metrics import classification_report\n",
    "\n",
    "adult_data = AdultData('data/datasets/adult.csv')\n",
    "\n",
    "\n",
    "rf=RandomForestClassifier(n_estimators=10)\n",
    "rf.fit(adult_data.X_train, adult_data.y_train)\n",
    "print(classification_report(adult_data.y_test, rf.predict(adult_data.X_test)))\n",
    "model = rf"
   ]
  },
  {
   "cell_type": "code",
   "execution_count": 3,
   "metadata": {},
   "outputs": [
    {
     "data": {
      "text/plain": [
       "\"\\nadult_data = AdultData('data/datasets/adult.csv')\\nmodel = keras.models.load_model('models/model_adult')\\nmodel_predictions = model.predict(adult_data.X_train)\\nmodel_predictions[model_predictions > 0.5] = 1\\nmodel_predictions[model_predictions <= 0.5] = 0\\n\""
      ]
     },
     "execution_count": 3,
     "metadata": {},
     "output_type": "execute_result"
    }
   ],
   "source": [
    "\"\"\"\n",
    "adult_data = AdultData('data/datasets/adult.csv')\n",
    "model = keras.models.load_model('models/model_adult')\n",
    "model_predictions = model.predict(adult_data.X_train)\n",
    "model_predictions[model_predictions > 0.5] = 1\n",
    "model_predictions[model_predictions <= 0.5] = 0\n",
    "\"\"\""
   ]
  },
  {
   "cell_type": "code",
   "execution_count": null,
   "metadata": {},
   "outputs": [],
   "source": []
  },
  {
   "cell_type": "markdown",
   "metadata": {},
   "source": []
  },
  {
   "cell_type": "code",
   "execution_count": 4,
   "metadata": {},
   "outputs": [],
   "source": [
    "train_X, test_X, train_y, test_y = adult_data.raw_X_train, adult_data.raw_X_test, adult_data.raw_y_train, adult_data.raw_y_test\n",
    "model_predictions = rf.predict(adult_data.X_train)"
   ]
  },
  {
   "cell_type": "code",
   "execution_count": 5,
   "metadata": {},
   "outputs": [],
   "source": [
    "def compare(i, fimap):\n",
    "    original_class = model.predict(adult_data.X_train.iloc[i].to_frame().T)[0]\n",
    "    x = test_X.iloc[i]\n",
    "    cf = fimap.generate(x)\n",
    "    x[\"income\"] = original_class\n",
    "    surrogate_class = fimap._s_prediction\n",
    "    cf[\"income\"] = surrogate_class\n",
    "    return pd.concat([x.to_frame().T, cf])"
   ]
  },
  {
   "cell_type": "code",
   "execution_count": 6,
   "metadata": {},
   "outputs": [
    {
     "name": "stdout",
     "output_type": "stream",
     "text": [
      "\n",
      "Training s\n",
      "Training loss (for one batch): 0.5308 \n",
      "Training accuracy 0.69288886\n",
      "Training loss (for one batch): 0.5038 \n",
      "Training accuracy 0.72575366\n",
      "Training loss (for one batch): 0.4884 \n",
      "Training accuracy 0.7407558\n",
      "Training loss (for one batch): 0.4828 \n",
      "Training accuracy 0.7497989\n",
      "Training loss (for one batch): 0.4786 \n",
      "Training accuracy 0.7558369\n",
      "Training loss (for one batch): 0.4717 \n",
      "Training accuracy 0.76061434\n",
      "Training loss (for one batch): 0.4660 \n",
      "Training accuracy 0.76433724\n",
      "Training loss (for one batch): 0.4639 \n",
      "Training accuracy 0.76759064\n",
      "Training loss (for one batch): 0.4562 \n",
      "Training accuracy 0.7704118\n",
      "Training loss (for one batch): 0.4549 \n",
      "Training accuracy 0.77283984\n",
      "\n",
      "Training g\n",
      "Training loss (for one batch): 1.1825 \n",
      "Training accuracy 0.47075087\n",
      "Training loss (for one batch): 1.1029 \n",
      "Training accuracy 0.48439524\n",
      "Training loss (for one batch): 1.0474 \n",
      "Training accuracy 0.49620244\n",
      "Training loss (for one batch): 1.0273 \n",
      "Training accuracy 0.5114921\n",
      "Training loss (for one batch): 1.0153 \n",
      "Training accuracy 0.52368224\n",
      "Training loss (for one batch): 0.9881 \n",
      "Training accuracy 0.53269064\n",
      "Training loss (for one batch): 0.9868 \n",
      "Training accuracy 0.5399152\n",
      "Training loss (for one batch): 0.9858 \n",
      "Training accuracy 0.5454688\n",
      "Training loss (for one batch): 0.9724 \n",
      "Training accuracy 0.5496743\n",
      "Training loss (for one batch): 0.9652 \n",
      "Training accuracy 0.5533623\n"
     ]
    }
   ],
   "source": [
    "    \n",
    "fimap = Fimap(constraints=[ValueNominal(adult_data.categorical_columns)])\n",
    "fimap.fit(adult_data.raw_X_train, model_predictions, epochs=400)\n",
    "\n",
    "dfs = [compare(i, fimap) for i in range(200)]\n",
    "concat_df = pd.concat(dfs)\n",
    "concat_df.to_csv(\"results_nominal_constraints.csv\")"
   ]
  },
  {
   "cell_type": "code",
   "execution_count": 7,
   "metadata": {},
   "outputs": [
    {
     "name": "stdout",
     "output_type": "stream",
     "text": [
      "ValueNominal(columns=['workclass', 'marital.status', 'occupation', 'race', 'sex'], values=[])\n",
      "Freeze(columns=['race', 'sex'])\n",
      "\n",
      "Training s\n",
      "Training loss (for one batch): 0.5283 \n",
      "Training accuracy 0.70511377\n",
      "Training loss (for one batch): 0.4976 \n",
      "Training accuracy 0.7348483\n",
      "Training loss (for one batch): 0.4825 \n",
      "Training accuracy 0.7484742\n",
      "Training loss (for one batch): 0.4752 \n",
      "Training accuracy 0.7566303\n",
      "Training loss (for one batch): 0.4687 \n",
      "Training accuracy 0.7624265\n",
      "Training loss (for one batch): 0.4623 \n",
      "Training accuracy 0.76677454\n",
      "Training loss (for one batch): 0.4576 \n",
      "Training accuracy 0.7703625\n",
      "Training loss (for one batch): 0.4549 \n",
      "Training accuracy 0.77332395\n",
      "Training loss (for one batch): 0.4504 \n",
      "Training accuracy 0.77585846\n",
      "Training loss (for one batch): 0.4482 \n",
      "Training accuracy 0.77807933\n",
      "\n",
      "Training g\n",
      "Training loss (for one batch): 1.2467 \n",
      "Training accuracy 0.45516923\n",
      "Training loss (for one batch): 1.1159 \n",
      "Training accuracy 0.47285\n",
      "Training loss (for one batch): 1.0666 \n",
      "Training accuracy 0.48683187\n",
      "Training loss (for one batch): 0.9920 \n",
      "Training accuracy 0.5039509\n",
      "Training loss (for one batch): 0.9904 \n",
      "Training accuracy 0.5212872\n",
      "Training loss (for one batch): 0.9655 \n",
      "Training accuracy 0.5341671\n",
      "Training loss (for one batch): 0.9582 \n",
      "Training accuracy 0.5435599\n",
      "Training loss (for one batch): 0.9620 \n",
      "Training accuracy 0.5507155\n",
      "Training loss (for one batch): 0.9420 \n",
      "Training accuracy 0.5563457\n",
      "Training loss (for one batch): 0.9351 \n",
      "Training accuracy 0.56127334\n"
     ]
    }
   ],
   "source": [
    "for constraint in adult_data.constraints:\n",
    "    print(constraint)\n",
    "    \n",
    "fimap = Fimap(constraints=adult_data.constraints)\n",
    "fimap.fit(adult_data.raw_X_train, model_predictions, epochs=400)\n",
    "\n",
    "\n",
    "dfs = [compare(i, fimap) for i in range(200)]\n",
    "concat_df = pd.concat(dfs)\n",
    "concat_df.to_csv(\"results_normal_constraints.csv\")"
   ]
  },
  {
   "cell_type": "code",
   "execution_count": 8,
   "metadata": {},
   "outputs": [
    {
     "name": "stdout",
     "output_type": "stream",
     "text": [
      "ValueNominal(columns=['workclass', 'marital.status', 'occupation', 'race', 'sex'], values=[])\n",
      "Freeze(columns=['race', 'sex'])\n",
      "\n",
      "Training s\n",
      "Training loss (for one batch): 0.5215 \n",
      "Training accuracy 0.681376\n",
      "Training loss (for one batch): 0.4931 \n",
      "Training accuracy 0.7238441\n",
      "Training loss (for one batch): 0.4800 \n",
      "Training accuracy 0.7419364\n",
      "Training loss (for one batch): 0.4747 \n",
      "Training accuracy 0.7520714\n",
      "Training loss (for one batch): 0.4687 \n",
      "Training accuracy 0.75899947\n",
      "Training loss (for one batch): 0.4645 \n",
      "Training accuracy 0.76409745\n",
      "Training loss (for one batch): 0.4599 \n",
      "Training accuracy 0.76818544\n",
      "Training loss (for one batch): 0.4550 \n",
      "Training accuracy 0.7716432\n",
      "Training loss (for one batch): 0.4491 \n",
      "Training accuracy 0.7744878\n",
      "Training loss (for one batch): 0.4467 \n",
      "Training accuracy 0.77689105\n",
      "\n",
      "Training g\n",
      "Training loss (for one batch): 1.1825 \n",
      "Training accuracy 0.4538099\n",
      "Training loss (for one batch): 1.0890 \n",
      "Training accuracy 0.47320604\n",
      "Training loss (for one batch): 1.0952 \n",
      "Training accuracy 0.48496085\n",
      "Training loss (for one batch): 1.0721 \n",
      "Training accuracy 0.49232244\n",
      "Training loss (for one batch): 1.0202 \n",
      "Training accuracy 0.5047882\n",
      "Training loss (for one batch): 0.9936 \n",
      "Training accuracy 0.5166882\n",
      "Training loss (for one batch): 0.9952 \n",
      "Training accuracy 0.5263349\n",
      "Training loss (for one batch): 0.9807 \n",
      "Training accuracy 0.5333838\n",
      "Training loss (for one batch): 0.9726 \n",
      "Training accuracy 0.53922284\n",
      "Training loss (for one batch): 0.9755 \n",
      "Training accuracy 0.54402626\n"
     ]
    }
   ],
   "source": [
    "for constraint in adult_data.constraints:\n",
    "    print(constraint)\n",
    "    \n",
    "fimap = Fimap(constraints=adult_data.constraints + [ValueMonotonicity(['age'], 'increasing')])\n",
    "fimap.fit(adult_data.raw_X_train, model_predictions, epochs=400)\n",
    "\n",
    "\n",
    "dfs = [compare(i, fimap) for i in range(200)]\n",
    "concat_df = pd.concat(dfs)\n",
    "concat_df.to_csv(\"results_normal_constraints_age_increasing.csv\")"
   ]
  },
  {
   "cell_type": "code",
   "execution_count": null,
   "metadata": {},
   "outputs": [],
   "source": []
  }
 ],
 "metadata": {
  "interpreter": {
   "hash": "ea468516aae90367fd6a32133631e3480d8b7db098e71986a96739a6dc8e9205"
  },
  "kernelspec": {
   "display_name": "Python 3.8.10 64-bit ('venv': venv)",
   "language": "python",
   "name": "python3"
  },
  "language_info": {
   "codemirror_mode": {
    "name": "ipython",
    "version": 3
   },
   "file_extension": ".py",
   "mimetype": "text/x-python",
   "name": "python",
   "nbconvert_exporter": "python",
   "pygments_lexer": "ipython3",
   "version": "3.8.10"
  },
  "orig_nbformat": 4
 },
 "nbformat": 4,
 "nbformat_minor": 2
}
