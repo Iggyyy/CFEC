{
 "cells": [
  {
   "cell_type": "code",
   "execution_count": 1,
   "id": "244027b6",
   "metadata": {},
   "outputs": [
    {
     "name": "stderr",
     "output_type": "stream",
     "text": [
      "2021-12-20 10:54:15.529779: W tensorflow/stream_executor/platform/default/dso_loader.cc:64] Could not load dynamic library 'libcudart.so.11.0'; dlerror: libcudart.so.11.0: cannot open shared object file: No such file or directory\n",
      "2021-12-20 10:54:15.529866: I tensorflow/stream_executor/cuda/cudart_stub.cc:29] Ignore above cudart dlerror if you do not have a GPU set up on your machine.\n"
     ]
    }
   ],
   "source": [
    "import pandas as pd\n",
    "import numpy as np\n",
    "\n",
    "import tensorflow as tf\n",
    "import keras.backend as K\n",
    "from keras.layers import Input, Layer\n",
    "from keras.models import Model\n",
    "from keras.models import load_model\n",
    "from tensorflow.keras.optimizers import Adam\n",
    "\n",
    "import operator\n",
    "from typing import Union, Tuple, List, Any, Optional"
   ]
  },
  {
   "cell_type": "code",
   "execution_count": 4,
   "id": "6b34ded2",
   "metadata": {},
   "outputs": [
    {
     "data": {
      "text/plain": [
       "['a', 'b', 'c']"
      ]
     },
     "execution_count": 4,
     "metadata": {},
     "output_type": "execute_result"
    }
   ],
   "source": [
    "d = {'a': 1, 'b': 2, 'c': 3}\n",
    "ser = pd.Series(data=d, index=['a', 'b', 'c'])\n",
    "list(ser.index)"
   ]
  },
  {
   "cell_type": "code",
   "execution_count": 2,
   "id": "39ed5044",
   "metadata": {},
   "outputs": [],
   "source": [
    "from src.counterfactuals.base import CounterfactualMethod\n",
    "\n",
    "#from src.counterfactuals.constraints import Freeze, OneHot"
   ]
  },
  {
   "cell_type": "code",
   "execution_count": 103,
   "id": "48dca001",
   "metadata": {},
   "outputs": [],
   "source": [
    "class Cadex(CounterfactualMethod):\n",
    "    '''\n",
    "    Creates a counterfactual explanation based on a pre-trained model using CADEX method\n",
    "    The model has to be a Keras classifier model, where in the final classification layer, each class label must\n",
    "    have a separate unit.\n",
    "    '''\n",
    "    def __init__(self, pretrained_model, constraints: Optional[List[Any]] = None) -> None:\n",
    "        self.model = pretrained_model \n",
    "        self._constraints = constraints if constraints is not None else [] \n",
    "        \n",
    "        self.x = None\n",
    "        self.y_expected = None\n",
    "        self.y_expected_class = None\n",
    "        self.mask = None\n",
    "        self.C = None\n",
    "        \n",
    "        \n",
    "    def generate(self, x: Union[pd.Series, np.ndarray], max_epoch=1000, threshold=0.5) -> Union[pd.DataFrame, np.ndarray]:\n",
    "        self.x = tf.Variable(x, dtype=tf.float32)\n",
    "        y_original = self._get_predicted_class(self.x)\n",
    "        self.y_expected_class = abs(y_original - 1)\n",
    "        if y_original == 0:\n",
    "            self.y_expected = tf.constant([[0, 1]], dtype=tf.float32)\n",
    "        else:\n",
    "            self.y_expected = tf.constant([[1, 0]], dtype=tf.float32)\n",
    "\n",
    "        opt = Adam()\n",
    "        \n",
    "        input_shape = self.x.shape[1:]\n",
    "        self._initialize_mask(input_shape)\n",
    "        self._initialize_C(input_shape)\n",
    "        \n",
    "        for _ in range(max_epoch):\n",
    "            gradients = self._get_gradient()\n",
    "            opt.apply_gradients(zip([gradients], [self.x]))\n",
    "            x_corrected = self._correct_categoricals(threshold)\n",
    "            if self._get_predicted_class(x_corrected) == self.y_expected_class:\n",
    "                return x_corrected\n",
    "            \n",
    "            \n",
    "    def _get_predicted_class(self, x: tf.Variable):\n",
    "        return self.model(x).numpy().argmax()\n",
    "    \n",
    "    def _correct_categoricals(self, threshold):\n",
    "        corrected_x = self.x.numpy()[0]\n",
    "        for constraint in self._constraints:\n",
    "            if isinstance(constraint, OneHot):\n",
    "                # if second best is bigger than threshold than flip\n",
    "                feature = corrected_x[constraint.start_column, constraint.end_column]\n",
    "                sorted_features = sorted(zip(enumerate(feature)), key=lambda feat: feat[1], reverse=True)\n",
    "                if sorted_features[1][1] > threshold:\n",
    "                    corrected_x[constraint.start_column, constraint.end_column] = 0\n",
    "                    corrected_x[constraint.start_column + sorted_features[1][0]] = 1\n",
    "                    \n",
    "                else:\n",
    "                    corrected_x[constraint.start_column, constraint.end_column] = 0\n",
    "                    corrected_x[constraint.start_column + sorted_features[0][0]] = 1\n",
    "                    \n",
    "        return tf.convert_to_tensor([corrected_x])       \n",
    "    \n",
    "    def _update_mask(self, gradient):\n",
    "        new_mask = self.mask.copy()\n",
    "        for i in range(len(gradient)):\n",
    "            if not((self.C[i] > 0 and gradient[i] < 0) or (self.C[i] < 0 and gradient[i] > 0) or self.C[i] == 0):\n",
    "                new_mask[i] = 0\n",
    "        return new_mask\n",
    "            \n",
    "    def _get_gradient(self):           \n",
    "        with tf.GradientTape() as t:\n",
    "            t.watch(self.x)\n",
    "            y_pred = model(self.x)\n",
    "            loss = tf.keras.losses.categorical_crossentropy(self.y_expected, y_pred)\n",
    "\n",
    "        gradients = t.gradient(loss, self.x).numpy().flatten()\n",
    "        updated_mask = self._update_mask(gradients)\n",
    "        return tf.convert_to_tensor([gradients * updated_mask])\n",
    "\n",
    "    def _initialize_mask(self, shape, dtype=\"float32\") -> np.ndarray:\n",
    "        self.mask = np.ones(shape, dtype=dtype)\n",
    "        for constraint in self._constraints:\n",
    "            if isinstance(constraint, Freeze):\n",
    "                for column in constraint.columns:\n",
    "                    self.mask[column] = 0\n",
    "        \n",
    "            \n",
    "    def _initialize_C(self, shape, dtype=\"float32\") -> np.ndarray:\n",
    "        self.C = np.zeros(shape, dtype=dtype)\n",
    "        for constraint in self._constraints:\n",
    "            if isinstance(constraint, ValueChangeDirection):\n",
    "                val = 1 if constraint.direction == \"+\" else -1\n",
    "                for column in constraint.columns:\n",
    "                    self.C[column] = val\n",
    "    "
   ]
  },
  {
   "cell_type": "code",
   "execution_count": 98,
   "id": "aa755d15",
   "metadata": {},
   "outputs": [],
   "source": [
    "from data.LoanData import LoanData\n",
    "\n",
    "data = LoanData(input_file='data/input_german.csv', labels_file='data/labels_german.csv')\n",
    "model = load_model('data/model_german.h5')"
   ]
  },
  {
   "cell_type": "code",
   "execution_count": 106,
   "id": "cec77448",
   "metadata": {},
   "outputs": [],
   "source": [
    "input_data = data.valid_input.iloc[[9], :]\n",
    "\n",
    "cadex = Cadex(model)\n",
    "cf = cadex.generate(input_data)"
   ]
  },
  {
   "cell_type": "code",
   "execution_count": 107,
   "id": "456b0969",
   "metadata": {},
   "outputs": [
    {
     "data": {
      "text/plain": [
       "<tf.Tensor: shape=(1, 61), dtype=float32, numpy=\n",
       "array([[ 0.7022602 ,  0.6829853 ,  0.42078522, -0.31666508, -0.12075999,\n",
       "        -1.1929638 , -0.9194117 , -0.98668694,  1.1124228 ,  0.15679565,\n",
       "        -0.21944797, -0.6566915 , -0.01448072,  3.6497478 , -0.6263946 ,\n",
       "        -0.62785643, -0.8104569 , -0.9861811 ,  0.16849802,  0.26206273,\n",
       "         3.7297518 ,  0.03780277, -0.7204713 , -0.14534009,  0.36970177,\n",
       "         0.36677936, -0.7768779 , -0.7850558 ,  0.32007104,  0.17918716,\n",
       "        -0.00805103, -1.0595104 , -0.64736927,  0.16347276,  1.3903598 ,\n",
       "        -0.66945934,  0.2855454 , -0.17190108,  1.4184916 , -0.24126053,\n",
       "        -0.16052814, -0.07783373, -0.8193088 , -1.6210183 ,  4.12619   ,\n",
       "         0.06565855,  1.1849915 , -0.8532869 ,  0.0794995 ,  0.27006158,\n",
       "        -0.17303558, -0.84807295, -1.6268035 ,  1.7141602 ,  0.2732813 ,\n",
       "        -0.19223668,  0.92396384,  0.05571455, -0.84632087, -0.09522267,\n",
       "        -0.19433047]], dtype=float32)>"
      ]
     },
     "execution_count": 107,
     "metadata": {},
     "output_type": "execute_result"
    }
   ],
   "source": [
    "cf"
   ]
  },
  {
   "cell_type": "code",
   "execution_count": 102,
   "id": "1df71bc4",
   "metadata": {},
   "outputs": [
    {
     "data": {
      "text/plain": [
       "<tf.Tensor: shape=(1, 2), dtype=float32, numpy=array([[0.49955207, 0.5004479 ]], dtype=float32)>"
      ]
     },
     "execution_count": 102,
     "metadata": {},
     "output_type": "execute_result"
    }
   ],
   "source": [
    "model(cf)"
   ]
  },
  {
   "cell_type": "code",
   "execution_count": 7,
   "id": "d51025f0",
   "metadata": {},
   "outputs": [
    {
     "name": "stdout",
     "output_type": "stream",
     "text": [
      "Model: \"sequential\"\n",
      "_________________________________________________________________\n",
      " Layer (type)                Output Shape              Param #   \n",
      "=================================================================\n",
      " dense_2 (Dense)             (None, 15)                930       \n",
      "                                                                 \n",
      " dense_1 (Dense)             (None, 2)                 32        \n",
      "                                                                 \n",
      "=================================================================\n",
      "Total params: 962\n",
      "Trainable params: 962\n",
      "Non-trainable params: 0\n",
      "_________________________________________________________________\n"
     ]
    }
   ],
   "source": [
    "model.summary()"
   ]
  },
  {
   "cell_type": "code",
   "execution_count": 5,
   "id": "67edfa5e",
   "metadata": {},
   "outputs": [],
   "source": []
  },
  {
   "cell_type": "code",
   "execution_count": 8,
   "id": "a3e8d349",
   "metadata": {},
   "outputs": [],
   "source": []
  },
  {
   "cell_type": "code",
   "execution_count": 72,
   "id": "a3596d4b",
   "metadata": {},
   "outputs": [
    {
     "name": "stdout",
     "output_type": "stream",
     "text": [
      "tf.Tensor(\n",
      "[[-2.2264458e-01 -8.7308809e-02 -2.0462963e-01 -6.0249632e-03\n",
      "   1.2517105e-01 -1.4757029e-02 -5.4372768e-03 -2.0502799e-03\n",
      "  -9.8711647e-02  2.7196212e-03  7.8916734e-01 -5.9503266e-03\n",
      "   3.4428129e-01  7.8258254e-03  9.3462528e-04 -1.5739987e-02\n",
      "  -9.9351825e-03 -2.8663009e-01  1.5845481e-01 -1.3930327e-04\n",
      "  -1.6606465e-02  4.5048827e-03 -6.7301287e-04  2.9692695e-02\n",
      "   1.4130946e-03  1.1004622e-03 -8.7195439e-03 -5.6870906e-03\n",
      "  -1.9781412e-01  5.5457042e-03  3.9115865e-02 -7.3289745e-02\n",
      "  -5.6496391e-04  1.9869458e-02  9.9704154e-02 -1.6209289e-02\n",
      "   3.4746444e-03  1.5288955e-03 -5.7453904e-03  2.2431049e-03\n",
      "   7.1861349e-02  9.8289317e-04 -5.9918296e-03  2.7083582e-01\n",
      "  -4.9224366e-03  7.2972020e-03  7.0662096e-02 -4.9804062e-02\n",
      "   9.0465089e-03 -1.9508768e-02 -9.2928894e-05 -3.4295744e-03\n",
      "  -3.9709095e-02  1.0808980e-02  1.0363033e-02 -1.4564778e-01\n",
      "  -5.2685407e-03  2.1362123e-01 -5.7223402e-02  3.3521783e-03\n",
      "  -1.5558908e-04]], shape=(1, 61), dtype=float32)\n"
     ]
    }
   ],
   "source": [
    "model = load_model('data/model_german.h5')\n",
    "# for layer in model.layers[1:]:\n",
    "#     layer.trainable = False\n",
    "\n",
    "input_data = data.valid_input.iloc[[9], :]\n",
    "y = 0\n",
    "\n",
    "x_tensor = tf.Variable(input_data, dtype=tf.float32)\n",
    "target = tf.constant([[1, 0]], dtype=tf.float32)\n",
    "with tf.GradientTape() as t:\n",
    "    t.watch(x_tensor)\n",
    "    pred = model(x_tensor, training=False)\n",
    "    loss = tf.keras.losses.categorical_crossentropy(target, pred)\n",
    "\n",
    "gradients = t.gradient(loss, x_tensor)\n",
    "print(gradients)"
   ]
  },
  {
   "cell_type": "code",
   "execution_count": 34,
   "id": "19aaa176",
   "metadata": {},
   "outputs": [
    {
     "data": {
      "text/plain": [
       "<tf.Tensor: shape=(1, 2), dtype=float32, numpy=array([[0.584158  , 0.41584197]], dtype=float32)>"
      ]
     },
     "execution_count": 34,
     "metadata": {},
     "output_type": "execute_result"
    }
   ],
   "source": [
    "pred = model(x_tensor)\n",
    "pred"
   ]
  },
  {
   "cell_type": "code",
   "execution_count": null,
   "id": "a44ad935",
   "metadata": {},
   "outputs": [],
   "source": []
  },
  {
   "cell_type": "code",
   "execution_count": 25,
   "id": "ce10f5c5",
   "metadata": {},
   "outputs": [
    {
     "data": {
      "text/plain": [
       "<tf.Variable 'Variable:0' shape=(1, 61) dtype=float32, numpy=\n",
       "array([[ 1.2939999 ,  2.238576  , -1.7892507 ,  1.031015  , -0.6676145 ,\n",
       "        -0.75488985, -0.44553548,  1.6173494 , -0.6086458 , -0.26162457,\n",
       "        -0.7980154 , -0.23686624, -0.6595283 , -0.31268218,  0.97225964,\n",
       "        -0.20577969, -0.34194803, -0.5436419 ,  2.830916  , -0.10515917,\n",
       "        -0.21786045, -0.46802524, -0.09728166, -0.61588174, -0.16518874,\n",
       "        -0.09728166, -0.31268218, -0.26162457,  0.81119114, -0.26162457,\n",
       "        -0.46802524, -0.66685474, -0.22941573,  3.294215  , -1.1231581 ,\n",
       "        -0.1973855 , -0.2256172 ,  0.30662206, -0.56291425,  1.4258946 ,\n",
       "        -0.62554324, -0.41750678, -0.38602147,  0.46305642, -0.22176638,\n",
       "        -0.32751554, -1.6300745 ,  2.159564  ,  2.5211747 , -1.3534616 ,\n",
       "        -0.14954671, -0.49266464, -1.2613854 ,  1.2613854 , -0.20987062,\n",
       "         0.20987062, -0.7337994 , -0.45056355,  2.2194426 , -0.58937967,\n",
       "        -0.24052285]], dtype=float32)>"
      ]
     },
     "execution_count": 25,
     "metadata": {},
     "output_type": "execute_result"
    }
   ],
   "source": [
    "x_tensor"
   ]
  },
  {
   "cell_type": "code",
   "execution_count": 26,
   "id": "9bbdfe6f",
   "metadata": {},
   "outputs": [
    {
     "data": {
      "text/plain": [
       "<tf.Variable 'UnreadVariable' shape=() dtype=int64, numpy=1>"
      ]
     },
     "execution_count": 26,
     "metadata": {},
     "output_type": "execute_result"
    }
   ],
   "source": [
    "opt = Adam()\n",
    "opt.apply_gradients(zip([gradients], [x_tensor]))"
   ]
  },
  {
   "cell_type": "code",
   "execution_count": 27,
   "id": "4dc3750c",
   "metadata": {},
   "outputs": [
    {
     "data": {
      "text/plain": [
       "<tf.Variable 'Variable:0' shape=(1, 61) dtype=float32, numpy=\n",
       "array([[ 1.2949998 ,  2.2395759 , -1.7882508 ,  1.0320128 , -0.6686126 ,\n",
       "        -0.75389075, -0.44454736,  1.616385  , -0.6076458 , -0.26261377,\n",
       "        -0.7990154 , -0.2358703 , -0.6605273 , -0.31368026,  0.9712868 ,\n",
       "        -0.20478083, -0.3409492 , -0.542642  ,  2.8299162 , -0.1061469 ,\n",
       "        -0.21686082, -0.4690224 , -0.09630696, -0.6168814 , -0.16618188,\n",
       "        -0.09634716, -0.3116846 , -0.2606278 ,  0.8121911 , -0.26261476,\n",
       "        -0.46902463, -0.66585493, -0.22842167,  3.293216  , -1.1241522 ,\n",
       "        -0.19638936, -0.22661312,  0.30762202, -0.56193703,  1.4248993 ,\n",
       "        -0.62654215, -0.41828948, -0.38504106,  0.4620583 , -0.2207763 ,\n",
       "        -0.32851177, -1.6310711 ,  2.160563  ,  2.5201786 , -1.3524619 ,\n",
       "        -0.15040581, -0.49365318, -1.2603914 ,  1.2603877 , -0.21086782,\n",
       "         0.210859  , -0.73280245, -0.45156303,  2.2204347 , -0.59037644,\n",
       "        -0.23954919]], dtype=float32)>"
      ]
     },
     "execution_count": 27,
     "metadata": {},
     "output_type": "execute_result"
    }
   ],
   "source": [
    "x_tensor"
   ]
  }
 ],
 "metadata": {
  "kernelspec": {
   "display_name": "Python 3 (ipykernel)",
   "language": "python",
   "name": "python3"
  },
  "language_info": {
   "codemirror_mode": {
    "name": "ipython",
    "version": 3
   },
   "file_extension": ".py",
   "mimetype": "text/x-python",
   "name": "python",
   "nbconvert_exporter": "python",
   "pygments_lexer": "ipython3",
   "version": "3.8.10"
  }
 },
 "nbformat": 4,
 "nbformat_minor": 5
}
